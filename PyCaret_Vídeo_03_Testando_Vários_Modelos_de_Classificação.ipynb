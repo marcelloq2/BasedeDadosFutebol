{
  "nbformat": 4,
  "nbformat_minor": 0,
  "metadata": {
    "colab": {
      "provenance": [],
      "collapsed_sections": [
        "j1QmNQf1v8-u",
        "driLkSXywi47",
        "9D5-2ZwpwpdW",
        "HbcRPVt0xO-i",
        "CbVGPnhPxnF2"
      ],
      "private_outputs": true,
      "include_colab_link": true
    },
    "kernelspec": {
      "name": "python3",
      "display_name": "Python 3"
    },
    "language_info": {
      "name": "python"
    }
  },
  "cells": [
    {
      "cell_type": "markdown",
      "metadata": {
        "id": "view-in-github",
        "colab_type": "text"
      },
      "source": [
        "<a href=\"https://colab.research.google.com/github/marcelloq2/BasedeDadosFutebol/blob/main/PyCaret_V%C3%ADdeo_03_Testando_V%C3%A1rios_Modelos_de_Classifica%C3%A7%C3%A3o.ipynb\" target=\"_parent\"><img src=\"https://colab.research.google.com/assets/colab-badge.svg\" alt=\"Open In Colab\"/></a>"
      ]
    },
    {
      "cell_type": "markdown",
      "source": [
        "### Instalando o PyCaret"
      ],
      "metadata": {
        "id": "j1QmNQf1v8-u"
      }
    },
    {
      "cell_type": "code",
      "execution_count": null,
      "metadata": {
        "id": "F2m9diUjqoSc"
      },
      "outputs": [],
      "source": [
        "!pip install pycaret"
      ]
    },
    {
      "cell_type": "markdown",
      "source": [
        "### importando as Bibliotecas e Funções"
      ],
      "metadata": {
        "id": "driLkSXywi47"
      }
    },
    {
      "cell_type": "code",
      "source": [
        "import pandas as pd\n",
        "import numpy as np\n",
        "import matplotlib.pyplot as plt\n",
        "\n",
        "from pycaret.classification import *\n",
        "\n",
        "import warnings\n",
        "warnings.filterwarnings('ignore')\n",
        "\n",
        "def drop_reset_index(df):\n",
        "    df = df.dropna()\n",
        "    df = df.reset_index(drop=True)\n",
        "    df.index += 1\n",
        "    return df"
      ],
      "metadata": {
        "id": "OUd__HWjrFaK"
      },
      "execution_count": null,
      "outputs": []
    },
    {
      "cell_type": "markdown",
      "source": [
        "### Importando as Base de Dados"
      ],
      "metadata": {
        "id": "9D5-2ZwpwpdW"
      }
    },
    {
      "cell_type": "code",
      "source": [
        "url = \"https://www.football-data.co.uk/new/BRA.csv\"\n",
        "df = pd.read_csv(url)\n",
        "df = df[['Date','Home','Away','HG','AG','Res','PH','PD','PA']]\n",
        "df.columns = ['Date','Home','Away','Goals_H','Goals_A','Result','Odd_H','Odd_D','Odd_A']\n",
        "df[['Dia','Mes','Ano']] = df['Date'].str.split('/',expand=True)\n",
        "df = df.drop(['Date'], axis=1)\n",
        "df['Date'] = df['Ano']+'-'+df['Mes']+'-'+ df['Dia']\n",
        "df = df.drop(columns=['Dia','Mes','Ano'], axis=1)\n",
        "df = df[['Date','Home','Away','Goals_H','Goals_A','Result','Odd_H','Odd_D','Odd_A']]\n",
        "df['Date'] = pd.to_datetime(df['Date'])\n",
        "df = drop_reset_index(df)\n",
        "display(df)"
      ],
      "metadata": {
        "id": "giIq6Kb5rT87"
      },
      "execution_count": null,
      "outputs": []
    },
    {
      "cell_type": "markdown",
      "source": [
        "### Criando as Variáveis"
      ],
      "metadata": {
        "id": "HbcRPVt0xO-i"
      }
    },
    {
      "cell_type": "code",
      "source": [
        "# Período de Médias\n",
        "n = 5\n",
        "\n",
        "# Probabilidades\n",
        "df['p_H'] = 1 / df['Odd_H']\n",
        "df['p_D'] = 1 / df['Odd_D']\n",
        "df['p_A'] = 1 / df['Odd_A']\n",
        "\n",
        "# Saldo de Gols Ponderado\n",
        "df['SG_H_Pond'] = (df['Goals_H'] - df['Goals_A']) * df['p_H']\n",
        "df['SG_A_Pond'] = (df['Goals_A'] - df['Goals_H']) * df['p_A']\n",
        "\n",
        "df['Media_SG_H'] = df.groupby('Home')['SG_H_Pond'].rolling(window=n, min_periods=n).mean().reset_index(0,drop=True)\n",
        "df['Media_SG_A'] = df.groupby('Away')['SG_A_Pond'].rolling(window=n, min_periods=n).mean().reset_index(0,drop=True)\n",
        "\n",
        "df['Media_SG_H'] = df.groupby('Home')['Media_SG_H'].shift(1)\n",
        "df['Media_SG_A'] = df.groupby('Away')['Media_SG_A'].shift(1)\n",
        "\n",
        "df['DesvPad_SG_H'] = df.groupby('Home')['SG_H_Pond'].rolling(window=n, min_periods=n).std(ddof=0).reset_index(0,drop=True)\n",
        "df['DesvPad_SG_A'] = df.groupby('Away')['SG_A_Pond'].rolling(window=n, min_periods=n).std(ddof=0).reset_index(0,drop=True)\n",
        "\n",
        "df['DesvPad_SG_H'] = df.groupby('Home')['DesvPad_SG_H'].shift(1)\n",
        "df['DesvPad_SG_A'] = df.groupby('Away')['DesvPad_SG_A'].shift(1)\n",
        "\n",
        "df['CV_SG_H'] = df['DesvPad_SG_H'] / df['Media_SG_H']\n",
        "df['CV_SG_A'] = df['DesvPad_SG_A'] / df['Media_SG_A']\n",
        "\n",
        "df.replace(np.inf, np.nan, inplace=True)\n",
        "df = drop_reset_index(df)\n",
        "\n",
        "df = df.drop(['SG_H_Pond','SG_A_Pond','DesvPad_SG_H','DesvPad_SG_A',], axis=1)"
      ],
      "metadata": {
        "id": "2q_q6BV3reC0"
      },
      "execution_count": null,
      "outputs": []
    },
    {
      "cell_type": "markdown",
      "source": [
        "### Inicializando o Modelo"
      ],
      "metadata": {
        "id": "CbVGPnhPxnF2"
      }
    },
    {
      "cell_type": "code",
      "source": [
        "# Criando a Coluna de Alvo\n",
        "df['Back_Home'] = 0\n",
        "df.loc[(df['Result'] == 'H'), 'Back_Home'] = 1\n",
        "\n",
        "df['Profit'] = -1\n",
        "df.loc[(df['Result'] == 'H'), 'Profit'] = df['Odd_H'] - 1"
      ],
      "metadata": {
        "id": "CiAK3wbDrz6B"
      },
      "execution_count": null,
      "outputs": []
    },
    {
      "cell_type": "code",
      "source": [
        "# Separando os dados em treino e teste\n",
        "train_df = df[df['Date'].dt.year <= 2022]\n",
        "test_df = df[df['Date'].dt.year >= 2023]"
      ],
      "metadata": {
        "id": "vIrYQiDIrUDZ"
      },
      "execution_count": null,
      "outputs": []
    },
    {
      "cell_type": "code",
      "source": [
        "features = ['Media_SG_H','Media_SG_A','CV_SG_H','CV_SG_A']\n",
        "label = 'Back_Home'"
      ],
      "metadata": {
        "id": "ZTu8TYtltFNr"
      },
      "execution_count": null,
      "outputs": []
    },
    {
      "cell_type": "code",
      "source": [
        "# Configurando o ambiente em PyCaret\n",
        "clf = setup(data=train_df[features], target=train_df[label], session_id=123, verbose=False)"
      ],
      "metadata": {
        "id": "CNzMoDhWq-ML"
      },
      "execution_count": null,
      "outputs": []
    },
    {
      "cell_type": "code",
      "source": [
        "# Comparando modelos para encontrar o melhor\n",
        "compare_models()"
      ],
      "metadata": {
        "id": "32EMgfPorvPV"
      },
      "execution_count": null,
      "outputs": []
    },
    {
      "cell_type": "code",
      "source": [
        "clf_models = models()\n",
        "modelos = clf_models.index.tolist()\n",
        "modelos"
      ],
      "metadata": {
        "id": "c0y76CZT_8DZ"
      },
      "execution_count": null,
      "outputs": []
    },
    {
      "cell_type": "code",
      "source": [
        "for i in modelos:\n",
        "    modelo = create_model(i, verbose=False)\n",
        "    df0 = predict_model(modelo, test_df, verbose=False)\n",
        "\n",
        "    filtro = df0.prediction_label == 1\n",
        "    Entradas = df0[filtro]\n",
        "\n",
        "    try:\n",
        "        Entradas = drop_reset_index(Entradas)\n",
        "        Entradas['Profit_acu'] = Entradas.Profit.cumsum()\n",
        "        profit = round(Entradas.Profit_acu.tail(1).item(),2)\n",
        "        ROI = round((Entradas.Profit_acu.tail(1)/len(Entradas)*100).item(),2)\n",
        "\n",
        "        plt.figure()\n",
        "        plt.plot(Entradas['Profit_acu'])\n",
        "        plt.title(f\"Profit Acumulado - Modelo {i}\")\n",
        "        plt.xlabel(\"Número de Jogos\")\n",
        "        plt.ylabel(\"Profit Acumulado\")\n",
        "\n",
        "        plt.show()\n",
        "\n",
        "        print(\"\")\n",
        "        print(\"Modelo: \"+i)\n",
        "        print(\"Profit:\",profit,\"stakes em\", len(Entradas),\"jogos\")\n",
        "        print(\"ROI:\",ROI,\"%\")\n",
        "    except:\n",
        "        pass"
      ],
      "metadata": {
        "id": "14fS2DtPsdC8"
      },
      "execution_count": null,
      "outputs": []
    }
  ]
}