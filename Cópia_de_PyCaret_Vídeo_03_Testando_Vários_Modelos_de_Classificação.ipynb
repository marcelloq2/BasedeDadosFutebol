{
  "nbformat": 4,
  "nbformat_minor": 0,
  "metadata": {
    "colab": {
      "provenance": [],
      "collapsed_sections": [
        "j1QmNQf1v8-u",
        "driLkSXywi47",
        "9D5-2ZwpwpdW",
        "HbcRPVt0xO-i",
        "CbVGPnhPxnF2"
      ],
      "private_outputs": true,
      "include_colab_link": true
    },
    "kernelspec": {
      "name": "python3",
      "display_name": "Python 3"
    },
    "language_info": {
      "name": "python"
    }
  },
  "cells": [
    {
      "cell_type": "markdown",
      "metadata": {
        "id": "view-in-github",
        "colab_type": "text"
      },
      "source": [
        "<a href=\"https://colab.research.google.com/github/marcelloq2/BasedeDadosFutebol/blob/main/C%C3%B3pia_de_PyCaret_V%C3%ADdeo_03_Testando_V%C3%A1rios_Modelos_de_Classifica%C3%A7%C3%A3o.ipynb\" target=\"_parent\"><img src=\"https://colab.research.google.com/assets/colab-badge.svg\" alt=\"Open In Colab\"/></a>"
      ]
    },
    {
      "cell_type": "markdown",
      "source": [
        "### Instalando o PyCaret"
      ],
      "metadata": {
        "id": "j1QmNQf1v8-u"
      }
    },
    {
      "cell_type": "code",
      "execution_count": null,
      "metadata": {
        "id": "F2m9diUjqoSc"
      },
      "outputs": [],
      "source": [
        "!pip install pycaret"
      ]
    },
    {
      "cell_type": "markdown",
      "source": [
        "### importando as Bibliotecas e Funções"
      ],
      "metadata": {
        "id": "driLkSXywi47"
      }
    },
    {
      "cell_type": "code",
      "source": [
        "import pandas as pd\n",
        "import numpy as np\n",
        "import matplotlib.pyplot as plt\n",
        "\n",
        "from pycaret.classification import *\n",
        "\n",
        "import warnings\n",
        "warnings.filterwarnings('ignore')\n",
        "\n",
        "def drop_reset_index(df):\n",
        "    df = df.dropna()\n",
        "    df = df.reset_index(drop=True)\n",
        "    df.index += 1\n",
        "    return df"
      ],
      "metadata": {
        "id": "OUd__HWjrFaK"
      },
      "execution_count": null,
      "outputs": []
    },
    {
      "cell_type": "markdown",
      "source": [
        "### Importando as Base de Dados"
      ],
      "metadata": {
        "id": "9D5-2ZwpwpdW"
      }
    },
    {
      "cell_type": "code",
      "source": [
        "#url = \"https://www.football-data.co.uk/new/BRA.csv\"\n",
        "#df = pd.read_csv(url)\n",
        "#df = df[['Date','Home','Away','HG','AG','Res','PH','PD','PA']]\n",
        "#df.columns = ['Date','Home','Away','Goals_H','Goals_A','Result','Odd_H','Odd_D','Odd_A']\n",
        "#df[['Dia','Mes','Ano']] = df['Date'].str.split('/',expand=True)\n",
        "#df = df.drop(['Date'], axis=1)\n",
        "#df['Date'] = df['Ano']+'-'+df['Mes']+'-'+ df['Dia']\n",
        "#df = df.drop(columns=['Dia','Mes','Ano'], axis=1)\n",
        "#df = df[['Date','Home','Away','Goals_H','Goals_A','Result','Odd_H','Odd_D','Odd_A']]\n",
        "#df['Date'] = pd.to_datetime(df['Date'])\n",
        "#df = drop_reset_index(df)\n",
        "#display(df)\n",
        "\n",
        "df_Futebol_BackHome = pd.read_excel('/content/Base_de_Dados_Full_Football_Data.xlsx')\n",
        "df = [df_Futebol_BackHome]\n",
        "df = pd.concat(df)\n",
        "df = df[['League','Date','Home', 'Away', 'Goals_H', 'Goals_A', 'Result', 'Odd_H', 'Odd_D', 'Odd_A', 'Odd_Over25', 'Odd_Under25', 'p_H',\t'p_D',\t'p_A',\t'H_D',\t'H_A',\t'D_H',\t'D_A',\t'A_H',\t'A_D','p_O25',\t'pU25',\t'H_O',\t'O_H',\t'H_U',\t'U_H',\t'D_O',\t'O_D',\t'D_U',\t'U_D',\t'A_O',\t'O_A',\t'A_U',\t'U_A','O_U',\t'U_O',\t'DF_H_A',\t'DF_H_D',\t'DF_D_A',\t'DF_O_U',\t'DF_U_O',\t'DF_H_O',\t'DF_H_U',\t'DF_D_O',\t'DF_D_U',\t'DF_A_O',\t'DF_A_U','ANG_H_A',\t'ANG_H_D',\t'ANG_D_A',\t'ANG_O_U',\t'ANG_U_O',\t'ANG_H_O',\t'ANG_H_U',\t'ANG_D_O',\t'ANG_D_U',\t'ANG_A_O',\t'ANG_A_U','ATAN_H_A',\t'ATAN_H_D',\t'ATAN_D_A',\t'ATAN_O_U',\t'ATAN_U_O',\t'ATAN_H_O',\t'ATAN_H_U',\t'ATAN_D_O',\t'ATAN_D_U',\t'ATAN_A_O',\t'ATAN_A_U','GRAUS_H_A',\t'GRAUS_H_D',\t'GRAUS_D_A',\t'GRAUS_O_U',\t'GRAUS_U_O',\t'GRAUS_H_O',\t'GRAUS_H_U',\t'GRAUS_D_O',\t'GRAUS_D_U',\t'GRAUS_A_O',\t'GRAUS_A_U','DIFPERC_H_A',\t'DIFPERC_H_D',\t'DIFPERC_D_A',\t'DIFPERC_O_U',\t'DIFPERC_U_O',\t'DIFPERC_H_O',\t'DIFPERC_H_U',\t'DIFPERC_D_O',\t'DIFPERC_D_U',\t'DIFPERC_A_O',\t'DIFPERC_A_U','DP_Odds_MO',\t'M_Odds_MO',\t'CV_Odds_MO',\t'DP_Odds_OU25',\t'M_Odds_OU25',\t'CV_Odds_OU25', 'DP_Prob_MO',\t'M_Prob_MO',\t'CV_Prob_MO',\t'DP_Prob_OU25',\t'M_Prob_OU25',\t'CV_Prob_OU25',\t'Custo2.0M_H',\t'Custo2.0M_A',\t'Custo2.0S_H',\t'Custo2.0S_A',\t'XGH',\t'XGA','Pts_H',\t'Pts_A',\t'VG_H',\t'VG_A',\t'SGP_H',\t'SGP_A',\t'SGPADV_H',\t'SGPADV_A',\t'Custo1.0M_H',\t'Custo1.0M_A',\t'Custo1.0S_H',\t'Custo1.0S_A',\t'Norm_Odds_H',\t'Norm_Odds_D',\t'Norm_Odds_A',\t'Norm_Odds_O',\t'Norm_Odds_U',\t'Log_Odds_H',\t'Log_Odds_D',\t'Log_Odds_A',\t'Log_Odds_O',\t'Log_Odds_U',\t'Log_Prob_H',\t'Log_Prob_D',\t'Log_Prob_A',\t'Log_Prob_O',\t'Log_Prob_U']]\n",
        "df.columns = ['League','Date','Home', 'Away', 'Goals_H', 'Goals_A', 'Result', 'Odd_H', 'Odd_D', 'Odd_A', 'Odd_Over25', 'Odd_Under25', 'p_H',\t'p_D',\t'p_A',\t'H_D',\t'H_A',\t'D_H',\t'D_A',\t'A_H',\t'A_D','p_O25',\t'pU25',\t'H_O',\t'O_H',\t'H_U',\t'U_H',\t'D_O',\t'O_D',\t'D_U',\t'U_D',\t'A_O',\t'O_A',\t'A_U',\t'U_A','O_U',\t'U_O',\t'DF_H_A',\t'DF_H_D',\t'DF_D_A',\t'DF_O_U',\t'DF_U_O',\t'DF_H_O',\t'DF_H_U',\t'DF_D_O',\t'DF_D_U',\t'DF_A_O',\t'DF_A_U','ANG_H_A',\t'ANG_H_D',\t'ANG_D_A',\t'ANG_O_U',\t'ANG_U_O',\t'ANG_H_O',\t'ANG_H_U',\t'ANG_D_O',\t'ANG_D_U',\t'ANG_A_O',\t'ANG_A_U','ATAN_H_A',\t'ATAN_H_D',\t'ATAN_D_A',\t'ATAN_O_U',\t'ATAN_U_O',\t'ATAN_H_O',\t'ATAN_H_U',\t'ATAN_D_O',\t'ATAN_D_U',\t'ATAN_A_O',\t'ATAN_A_U','GRAUS_H_A',\t'GRAUS_H_D',\t'GRAUS_D_A',\t'GRAUS_O_U',\t'GRAUS_U_O',\t'GRAUS_H_O',\t'GRAUS_H_U',\t'GRAUS_D_O',\t'GRAUS_D_U',\t'GRAUS_A_O',\t'GRAUS_A_U','DIFPERC_H_A',\t'DIFPERC_H_D',\t'DIFPERC_D_A',\t'DIFPERC_O_U',\t'DIFPERC_U_O',\t'DIFPERC_H_O',\t'DIFPERC_H_U',\t'DIFPERC_D_O',\t'DIFPERC_D_U',\t'DIFPERC_A_O',\t'DIFPERC_A_U','DP_Odds_MO',\t'M_Odds_MO',\t'CV_Odds_MO',\t'DP_Odds_OU25',\t'M_Odds_OU25',\t'CV_Odds_OU25', 'DP_Prob_MO',\t'M_Prob_MO',\t'CV_Prob_MO',\t'DP_Prob_OU25',\t'M_Prob_OU25',\t'CV_Prob_OU25',\t'Custo2.0M_H',\t'Custo2.0M_A',\t'Custo2.0S_H',\t'Custo2.0S_A',\t'XGH',\t'XGA','Pts_H',\t'Pts_A',\t'VG_H',\t'VG_A',\t'SGP_H',\t'SGP_A',\t'SGPADV_H',\t'SGPADV_A',\t'Custo1.0M_H',\t'Custo1.0M_A',\t'Custo1.0S_H',\t'Custo1.0S_A',\t'Norm_Odds_H',\t'Norm_Odds_D',\t'Norm_Odds_A',\t'Norm_Odds_O',\t'Norm_Odds_U',\t'Log_Odds_H',\t'Log_Odds_D',\t'Log_Odds_A',\t'Log_Odds_O',\t'Log_Odds_U',\t'Log_Prob_H',\t'Log_Prob_D',\t'Log_Prob_A',\t'Log_Prob_O',\t'Log_Prob_U']"
      ],
      "metadata": {
        "id": "giIq6Kb5rT87"
      },
      "execution_count": null,
      "outputs": []
    },
    {
      "cell_type": "markdown",
      "source": [
        "### Criando as Variáveis"
      ],
      "metadata": {
        "id": "HbcRPVt0xO-i"
      }
    },
    {
      "cell_type": "code",
      "source": [
        "# Período de Médias\n",
        "n = 5\n",
        "\n",
        "# Probabilidades\n",
        "#df['p_H'] = 1 / df['Odd_H']\n",
        "#df['p_D'] = 1 / df['Odd_D']\n",
        "#df['p_A'] = 1 / df['Odd_A']\n",
        "\n",
        "# Saldo de Gols Ponderado\n",
        "#df['SG_H_Pond'] = (df['Goals_H'] - df['Goals_A']) * df['p_H']\n",
        "#df['SG_A_Pond'] = (df['Goals_A'] - df['Goals_H']) * df['p_A']\n",
        "\n",
        "#df['Media_SG_H'] = df.groupby('Home')['SG_H_Pond'].rolling(window=n, min_periods=n).mean().reset_index(0,drop=True)\n",
        "#df['Media_SG_A'] = df.groupby('Away')['SG_A_Pond'].rolling(window=n, min_periods=n).mean().reset_index(0,drop=True)\n",
        "\n",
        "#df['Media_SG_H'] = df.groupby('Home')['Media_SG_H'].shift(1)\n",
        "#df['Media_SG_A'] = df.groupby('Away')['Media_SG_A'].shift(1)\n",
        "\n",
        "#df['DesvPad_SG_H'] = df.groupby('Home')['SG_H_Pond'].rolling(window=n, min_periods=n).std(ddof=0).reset_index(0,drop=True)\n",
        "#df['DesvPad_SG_A'] = df.groupby('Away')['SG_A_Pond'].rolling(window=n, min_periods=n).std(ddof=0).reset_index(0,drop=True)\n",
        "\n",
        "#df['DesvPad_SG_H'] = df.groupby('Home')['DesvPad_SG_H'].shift(1)\n",
        "#df['DesvPad_SG_A'] = df.groupby('Away')['DesvPad_SG_A'].shift(1)\n",
        "\n",
        "#df['CV_SG_H'] = df['DesvPad_SG_H'] / df['Media_SG_H']\n",
        "#df['CV_SG_A'] = df['DesvPad_SG_A'] / df['Media_SG_A']\n",
        "\n",
        "df['Media_SGPADV_H_H'] = df.groupby('Home')['SGPADV_H'].rolling(window=n, min_periods=n).mean().reset_index(0,drop=True)\n",
        "df['Media_SGPADV_A_A'] = df.groupby('Away')['SGPADV_A'].rolling(window=n, min_periods=n).mean().reset_index(0,drop=True)\n",
        "\n",
        "df['Media_SGPADV_H_H'] = df.groupby('Home')['Media_SGPADV_H_H'].shift(1)\n",
        "df['Media_SGPADV_A_A'] = df.groupby('Away')['Media_SGPADV_A_A'].shift(1)\n",
        "\n",
        "df['DesvPad_SGPADV_H_H'] = df.groupby('Home')['SGPADV_H'].rolling(window=n, min_periods=n).std(ddof=0).reset_index(0,drop=True)\n",
        "df['DesvPad_SGPADV_A_A'] = df.groupby('Away')['SGPADV_A'].rolling(window=n, min_periods=n).std(ddof=0).reset_index(0,drop=True)\n",
        "\n",
        "df['DesvPad_SGPADV_H_H'] = df.groupby('Home')['DesvPad_SGPADV_H_H'].shift(1)\n",
        "df['DesvPad_SGPADV_A_A'] = df.groupby('Away')['DesvPad_SGPADV_A_A'].shift(1)\n",
        "\n",
        "df['CV_SGPADV_H_H'] = df['DesvPad_SGPADV_H_H'] / df['Media_SGPADV_H_H']\n",
        "df['CV_SGPADV_A_A'] = df['DesvPad_SGPADV_A_A'] / df['Media_SGPADV_A_A']\n",
        "\n",
        "\n",
        "df.replace(np.inf, np.nan, inplace=True)\n",
        "df = drop_reset_index(df)\n",
        "\n",
        "#df = df.drop(['SG_H_Pond','SG_A_Pond','DesvPad_SG_H','DesvPad_SG_A',], axis=1)"
      ],
      "metadata": {
        "id": "2q_q6BV3reC0"
      },
      "execution_count": null,
      "outputs": []
    },
    {
      "cell_type": "code",
      "source": [
        "df"
      ],
      "metadata": {
        "id": "irMapTitaXPl"
      },
      "execution_count": null,
      "outputs": []
    },
    {
      "cell_type": "markdown",
      "source": [
        "### Inicializando o Modelo"
      ],
      "metadata": {
        "id": "CbVGPnhPxnF2"
      }
    },
    {
      "cell_type": "code",
      "source": [
        "# Criando a Coluna de Alvo\n",
        "df['Back_Home'] = 0\n",
        "df.loc[(df['Result'] == 'H'), 'Back_Home'] = 1\n",
        "\n",
        "df['Profit'] = -1\n",
        "df.loc[(df['Result'] == 'H'), 'Profit'] = df['Odd_H'] - 1"
      ],
      "metadata": {
        "id": "CiAK3wbDrz6B"
      },
      "execution_count": null,
      "outputs": []
    },
    {
      "cell_type": "code",
      "source": [
        "df"
      ],
      "metadata": {
        "id": "oV7bjjq0aoot"
      },
      "execution_count": null,
      "outputs": []
    },
    {
      "cell_type": "code",
      "source": [
        "# Separando os dados em treino e teste\n",
        "train_df = df[df['Date'].dt.year <= 2022]\n",
        "test_df = df[df['Date'].dt.year >= 2023]"
      ],
      "metadata": {
        "id": "vIrYQiDIrUDZ"
      },
      "execution_count": null,
      "outputs": []
    },
    {
      "cell_type": "code",
      "source": [
        "features = ['Media_SGPADV_H_H','Media_SGPADV_H_A','CV_SGPADV_H_H','CV_SGPADV_H_A']\n",
        "label = 'Back_Home'"
      ],
      "metadata": {
        "id": "ZTu8TYtltFNr"
      },
      "execution_count": null,
      "outputs": []
    },
    {
      "cell_type": "code",
      "source": [
        "# Configurando o ambiente em PyCaret\n",
        "clf = setup(data=train_df[features], target=train_df[label], session_id=123, verbose=False)"
      ],
      "metadata": {
        "id": "CNzMoDhWq-ML"
      },
      "execution_count": null,
      "outputs": []
    },
    {
      "cell_type": "code",
      "source": [
        "# Comparando modelos para encontrar o melhor\n",
        "compare_models()"
      ],
      "metadata": {
        "id": "32EMgfPorvPV"
      },
      "execution_count": null,
      "outputs": []
    },
    {
      "cell_type": "code",
      "source": [
        "clf_models = models()\n",
        "modelos = clf_models.index.tolist()\n",
        "modelos"
      ],
      "metadata": {
        "id": "c0y76CZT_8DZ"
      },
      "execution_count": null,
      "outputs": []
    },
    {
      "cell_type": "code",
      "source": [
        "for i in modelos:\n",
        "    modelo = create_model(i, verbose=False)\n",
        "    df0 = predict_model(modelo, test_df, verbose=False)\n",
        "\n",
        "    filtro = df0.prediction_label == 1\n",
        "    Entradas = df0[filtro]\n",
        "\n",
        "    try:\n",
        "        Entradas = drop_reset_index(Entradas)\n",
        "        Entradas['Profit_acu'] = Entradas.Profit.cumsum()\n",
        "        profit = round(Entradas.Profit_acu.tail(1).item(),2)\n",
        "        ROI = round((Entradas.Profit_acu.tail(1)/len(Entradas)*100).item(),2)\n",
        "\n",
        "        plt.figure()\n",
        "        plt.plot(Entradas['Profit_acu'])\n",
        "        plt.title(f\"Profit Acumulado - Modelo {i}\")\n",
        "        plt.xlabel(\"Número de Jogos\")\n",
        "        plt.ylabel(\"Profit Acumulado\")\n",
        "\n",
        "        plt.show()\n",
        "\n",
        "        print(\"\")\n",
        "        print(\"Modelo: \"+i)\n",
        "        print(\"Profit:\",profit,\"stakes em\", len(Entradas),\"jogos\")\n",
        "        print(\"ROI:\",ROI,\"%\")\n",
        "    except:\n",
        "        pass"
      ],
      "metadata": {
        "id": "14fS2DtPsdC8"
      },
      "execution_count": null,
      "outputs": []
    }
  ]
}